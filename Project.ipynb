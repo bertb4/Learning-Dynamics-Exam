{
 "cells": [
  {
   "cell_type": "code",
   "execution_count": 1,
   "metadata": {
    "collapsed": true
   },
   "outputs": [],
   "source": [
    "import random\n",
    "import matplotlib.pyplot as plt"
   ]
  },
  {
   "cell_type": "code",
   "execution_count": 2,
   "metadata": {
    "collapsed": true
   },
   "outputs": [],
   "source": [
    "class Individual:\n",
    "    def __init__(self, w, p, alpha, behaviour):\n",
    "        self.W = w #wealth\n",
    "        self.P = p #chance of having bad event happening\n",
    "        self.alpha = alpha #fraction lost during bad event\n",
    "        self.behaviour = behaviour #[Treshold,contribution when Cr<=Threshold,contribution when Cr>tThreshold]\n",
    "        self.round = 0\n",
    "        self.history= [w]\n",
    "        self.contribution = []\n",
    "        \n",
    "    def Contribution(self, Cr):\n",
    "        beh= self.behaviour[self.round]\n",
    "        if(Cr<=beh[0]):\n",
    "            return beh[1]\n",
    "        else:\n",
    "            return beh[2]\n",
    "        \n",
    "    def Risk(self, Cr):#chance of having bad event happening\n",
    "        if (random.random() < self.P):\n",
    "            return 1\n",
    "        return 0\n",
    "        \n",
    "    def Step(self, Cr):\n",
    "        #amount contributed to public good\n",
    "        c = self.Contribution(Cr)\n",
    "        self.contribution.append(c)\n",
    "        #calculate what's left of wealth\n",
    "        self.W = (1-self.alpha*self.Risk(Cr))*(self.W-c)\n",
    "        self.history.append(self.W)\n",
    "        self.round +=1\n",
    "        print(\"Wealth\" ,self.W,\"contribution\", c)\n",
    "        return c"
   ]
  },
  {
   "cell_type": "code",
   "execution_count": 3,
   "metadata": {
    "collapsed": true
   },
   "outputs": [],
   "source": [
    "def CreatePopulation(Number):\n",
    "    res = []\n",
    "    for i in range(Number):\n",
    "        #parameters for individual\n",
    "        W = 1\n",
    "        P = 0.5\n",
    "        alpha = 0.1\n",
    "        beh = [[0.0,0.1,0.0], [0.2,0.1,0.5]]\n",
    "        #create individual\n",
    "        p = Individual(W,P,alpha,beh)\n",
    "        res.append(p)\n",
    "    return res"
   ]
  },
  {
   "cell_type": "code",
   "execution_count": 10,
   "metadata": {},
   "outputs": [
    {
     "name": "stdout",
     "output_type": "stream",
     "text": [
      ">>>>Round :  1 <<<<<\n",
      "Wealth 0.81 contribution 0.1\n",
      "Wealth 0.5 contribution 0.5\n",
      ">>>>Cr :  0.6 \n",
      ">>>>Round :  2 <<<<<\n",
      "Wealth 0.2790000000000001 contribution 0.5\n",
      "Wealth 0.3 contribution 0.2\n",
      ">>>>Cr :  1.2999999999999998 \n",
      "[1, 0.81, 0.2790000000000001]\n"
     ]
    }
   ],
   "source": [
    "rounds = 2 # amount of rounds\n",
    "Cr = 0 # initial public good \n",
    "population = CreatePopulation(2) # population of players\n",
    "population[1].behaviour = [[0.1,0.5,0.1],[0.7,0.2,0.5]]\n",
    "for i in range(rounds):\n",
    "    temp=0\n",
    "    print(\">>>>Round : \", i+1, \"<<<<<\")\n",
    "    for p in population:\n",
    "        temp += p.Step(Cr)\n",
    "    Cr+=temp\n",
    "    print(\">>>>Cr : \", Cr, \"\")\n",
    "    \n",
    "print(population[0].history)   \n",
    "plt.title('Evolution Wealth')\n",
    "for p in population:\n",
    "    plt.plot(p.history)"
   ]
  },
  {
   "cell_type": "code",
   "execution_count": 7,
   "metadata": {},
   "outputs": [
    {
     "data": {
      "image/png": "[encoded data removed]",
      "text/plain": [
       "<matplotlib.figure.Figure at 0x1965fb7a668>"
      ]
     },
     "metadata": {},
     "output_type": "display_data"
    }
   ],
   "source": [
    "plt.title('Evolution Contribution')\n",
    "for p in population:\n",
    "    plt.plot(p.contribution)\n"
   ]
  },
  {
   "cell_type": "code",
   "execution_count": null,
   "metadata": {
    "collapsed": true
   },
   "outputs": [],
   "source": []
  }
 ],
 "metadata": {
  "kernelspec": {
   "display_name": "Python 3",
   "language": "python",
   "name": "python3"
  },
  "language_info": {
   "codemirror_mode": {
    "name": "ipython",
    "version": 3
   },
   "file_extension": ".py",
   "mimetype": "text/x-python",
   "name": "python",
   "nbconvert_exporter": "python",
   "pygments_lexer": "ipython3",
   "version": "3.6.3"
  }
 },
 "nbformat": 4,
 "nbformat_minor": 2
}
